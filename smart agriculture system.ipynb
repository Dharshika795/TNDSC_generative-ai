{
  "metadata": {
    "kernelspec": {
      "language": "python",
      "display_name": "Python 3",
      "name": "python3"
    },
    "language_info": {
      "pygments_lexer": "ipython3",
      "nbconvert_exporter": "python",
      "version": "3.6.4",
      "file_extension": ".py",
      "codemirror_mode": {
        "name": "ipython",
        "version": 3
      },
      "name": "python",
      "mimetype": "text/x-python"
    },
    "kaggle": {
      "accelerator": "none",
      "dataSources": [
        {
          "sourceId": 2706154,
          "sourceType": "datasetVersion",
          "datasetId": 1648542
        }
      ],
      "dockerImageVersionId": 30138,
      "isInternetEnabled": false,
      "language": "python",
      "sourceType": "notebook",
      "isGpuEnabled": false
    },
    "colab": {
      "name": "notebook471fa25e64",
      "provenance": [],
      "include_colab_link": true
    }
  },
  "nbformat_minor": 0,
  "nbformat": 4,
  "cells": [
    {
      "cell_type": "markdown",
      "metadata": {
        "id": "view-in-github",
        "colab_type": "text"
      },
      "source": [
        "<a href=\"https://colab.research.google.com/github/Dharshika795/TNDSC_generative-ai/blob/main/smart%20agriculture%20system.ipynb\" target=\"_parent\"><img src=\"https://colab.research.google.com/assets/colab-badge.svg\" alt=\"Open In Colab\"/></a>"
      ]
    },
    {
      "source": [
        "\n",
        "# IMPORTANT: RUN THIS CELL IN ORDER TO IMPORT YOUR KAGGLE DATA SOURCES\n",
        "# TO THE CORRECT LOCATION (/kaggle/input) IN YOUR NOTEBOOK,\n",
        "# THEN FEEL FREE TO DELETE THIS CELL.\n",
        "# NOTE: THIS NOTEBOOK ENVIRONMENT DIFFERS FROM KAGGLE'S PYTHON\n",
        "# ENVIRONMENT SO THERE MAY BE MISSING LIBRARIES USED BY YOUR\n",
        "# NOTEBOOK.\n",
        "\n",
        "import os\n",
        "import sys\n",
        "from tempfile import NamedTemporaryFile\n",
        "from urllib.request import urlopen\n",
        "from urllib.parse import unquote, urlparse\n",
        "from urllib.error import HTTPError\n",
        "from zipfile import ZipFile\n",
        "import tarfile\n",
        "import shutil\n",
        "\n",
        "CHUNK_SIZE = 40960\n",
        "DATA_SOURCE_MAPPING = 'dissolved-inorganic-nitrogen-prediction:https%3A%2F%2Fstorage.googleapis.com%2Fkaggle-data-sets%2F1648542%2F2706154%2Fbundle%2Farchive.zip%3FX-Goog-Algorithm%3DGOOG4-RSA-SHA256%26X-Goog-Credential%3Dgcp-kaggle-com%2540kaggle-161607.iam.gserviceaccount.com%252F20240330%252Fauto%252Fstorage%252Fgoog4_request%26X-Goog-Date%3D20240330T093541Z%26X-Goog-Expires%3D259200%26X-Goog-SignedHeaders%3Dhost%26X-Goog-Signature%3D1402c445ce0c2877ac13ea9e602802dd3f0305d5baaff012e25d34b94548aab4b37b67643063bb9cb6b39327dff4c279f13a1cef34290da4701348c5a749deda3fcd76d8a4e5ab433599cf2023cf22ca69543788b92b6b4318d4dd86c98b6990166854bf041f6ff0908544bdd15b0c1ff6cd05770432b741d35c0412a87a71dc7ce2a78a8b0e4502df9b21aa4bff560f06cc3b306fbb8c1cab09cc5e882b7441ada856f0661c810f41da18276c3bd6740d3b9f2ab0b4171aea70eb7f4b632df45ac3865931ef183d996ef8bebe1ec10011826d869194c26bf0288e74d6e7a0cbf95df4fb6828ae746e90b7220593088106abeed156431713dcdcd3ee961babc6'\n",
        "\n",
        "KAGGLE_INPUT_PATH='/kaggle/input'\n",
        "KAGGLE_WORKING_PATH='/kaggle/working'\n",
        "KAGGLE_SYMLINK='kaggle'\n",
        "\n",
        "!umount /kaggle/input/ 2> /dev/null\n",
        "shutil.rmtree('/kaggle/input', ignore_errors=True)\n",
        "os.makedirs(KAGGLE_INPUT_PATH, 0o777, exist_ok=True)\n",
        "os.makedirs(KAGGLE_WORKING_PATH, 0o777, exist_ok=True)\n",
        "\n",
        "try:\n",
        "  os.symlink(KAGGLE_INPUT_PATH, os.path.join(\"..\", 'input'), target_is_directory=True)\n",
        "except FileExistsError:\n",
        "  pass\n",
        "try:\n",
        "  os.symlink(KAGGLE_WORKING_PATH, os.path.join(\"..\", 'working'), target_is_directory=True)\n",
        "except FileExistsError:\n",
        "  pass\n",
        "\n",
        "for data_source_mapping in DATA_SOURCE_MAPPING.split(','):\n",
        "    directory, download_url_encoded = data_source_mapping.split(':')\n",
        "    download_url = unquote(download_url_encoded)\n",
        "    filename = urlparse(download_url).path\n",
        "    destination_path = os.path.join(KAGGLE_INPUT_PATH, directory)\n",
        "    try:\n",
        "        with urlopen(download_url) as fileres, NamedTemporaryFile() as tfile:\n",
        "            total_length = fileres.headers['content-length']\n",
        "            print(f'Downloading {directory}, {total_length} bytes compressed')\n",
        "            dl = 0\n",
        "            data = fileres.read(CHUNK_SIZE)\n",
        "            while len(data) > 0:\n",
        "                dl += len(data)\n",
        "                tfile.write(data)\n",
        "                done = int(50 * dl / int(total_length))\n",
        "                sys.stdout.write(f\"\\r[{'=' * done}{' ' * (50-done)}] {dl} bytes downloaded\")\n",
        "                sys.stdout.flush()\n",
        "                data = fileres.read(CHUNK_SIZE)\n",
        "            if filename.endswith('.zip'):\n",
        "              with ZipFile(tfile) as zfile:\n",
        "                zfile.extractall(destination_path)\n",
        "            else:\n",
        "              with tarfile.open(tfile.name) as tarfile:\n",
        "                tarfile.extractall(destination_path)\n",
        "            print(f'\\nDownloaded and uncompressed: {directory}')\n",
        "    except HTTPError as e:\n",
        "        print(f'Failed to load (likely expired) {download_url} to path {destination_path}')\n",
        "        continue\n",
        "    except OSError as e:\n",
        "        print(f'Failed to load {download_url} to path {destination_path}')\n",
        "        continue\n",
        "\n",
        "print('Data source import complete.')\n"
      ],
      "metadata": {
        "id": "RjloaeDBJtnb"
      },
      "cell_type": "code",
      "outputs": [],
      "execution_count": null
    },
    {
      "cell_type": "markdown",
      "source": [
        "**IMPORT THE NECESSARYLIBRARIES**"
      ],
      "metadata": {
        "id": "5RQ1b7hZJtnf"
      }
    },
    {
      "cell_type": "code",
      "source": [
        "import numpy as np\n",
        "import pandas as pd\n",
        "\n",
        "import matplotlib.pyplot as plt\n",
        "import seaborn as sns\n",
        "\n",
        "from sklearn.compose import ColumnTransformer\n",
        "from sklearn.preprocessing import OneHotEncoder\n",
        "\n",
        "from sklearn.model_selection import train_test_split\n",
        "from sklearn.ensemble import RandomForestRegressor\n",
        "from sklearn.metrics import r2_score"
      ],
      "metadata": {
        "execution": {
          "iopub.status.busy": "2021-11-26T10:13:26.399246Z",
          "iopub.execute_input": "2021-11-26T10:13:26.399728Z",
          "iopub.status.idle": "2021-11-26T10:13:27.874488Z",
          "shell.execute_reply.started": "2021-11-26T10:13:26.399641Z",
          "shell.execute_reply": "2021-11-26T10:13:27.873491Z"
        },
        "trusted": true,
        "id": "CfpUjlWMJtng"
      },
      "execution_count": null,
      "outputs": []
    },
    {
      "cell_type": "markdown",
      "source": [
        "**IMPORT THE DATA**"
      ],
      "metadata": {
        "id": "PsljBxA_Jtnh"
      }
    },
    {
      "cell_type": "code",
      "source": [
        "dataset = pd.read_csv('../input/dissolved-inorganic-nitrogen-prediction/River Sites Nutrient Levels.csv')"
      ],
      "metadata": {
        "execution": {
          "iopub.status.busy": "2021-11-26T10:13:27.876546Z",
          "iopub.execute_input": "2021-11-26T10:13:27.876849Z",
          "iopub.status.idle": "2021-11-26T10:13:27.901775Z",
          "shell.execute_reply.started": "2021-11-26T10:13:27.876817Z",
          "shell.execute_reply": "2021-11-26T10:13:27.900708Z"
        },
        "trusted": true,
        "id": "6BJ1IFoQJtnh"
      },
      "execution_count": null,
      "outputs": []
    },
    {
      "cell_type": "markdown",
      "source": [
        "Check the data"
      ],
      "metadata": {
        "id": "FbbbtbxwJtnh"
      }
    },
    {
      "cell_type": "code",
      "source": [
        "dataset.head()"
      ],
      "metadata": {
        "execution": {
          "iopub.status.busy": "2021-11-26T10:13:27.903083Z",
          "iopub.execute_input": "2021-11-26T10:13:27.903452Z",
          "iopub.status.idle": "2021-11-26T10:13:27.926653Z",
          "shell.execute_reply.started": "2021-11-26T10:13:27.903417Z",
          "shell.execute_reply": "2021-11-26T10:13:27.925899Z"
        },
        "trusted": true,
        "id": "7Rb4Ma8FJtni"
      },
      "execution_count": null,
      "outputs": []
    },
    {
      "cell_type": "markdown",
      "source": [
        "There appears to be an unnamed column in the dataset. This column must be dropped."
      ],
      "metadata": {
        "id": "1zFlmDECJtni"
      }
    },
    {
      "cell_type": "markdown",
      "source": [
        "Found a null entry while scanning through the data."
      ],
      "metadata": {
        "id": "oC5HBDHhJtni"
      }
    },
    {
      "cell_type": "code",
      "source": [
        "dataset['Water_electrical_conductivity'] = dataset['Water_electrical_conductivity'].fillna(dataset['Water_electrical_conductivity'].mean())"
      ],
      "metadata": {
        "execution": {
          "iopub.status.busy": "2021-11-26T10:13:27.928513Z",
          "iopub.execute_input": "2021-11-26T10:13:27.928928Z",
          "iopub.status.idle": "2021-11-26T10:13:27.936783Z",
          "shell.execute_reply.started": "2021-11-26T10:13:27.928898Z",
          "shell.execute_reply": "2021-11-26T10:13:27.936094Z"
        },
        "trusted": true,
        "id": "1fzYkUOoJtnj"
      },
      "execution_count": null,
      "outputs": []
    },
    {
      "cell_type": "code",
      "source": [
        "plt.figure(figsize = (12,8))\n",
        "plt.title('DIN at respective regions')\n",
        "sns.stripplot(x = dataset['Region'],\n",
        "              y = dataset['Dissolved_inorganic_nitrogen'])\n",
        "plt.xlabel('Site on Swartkops River Estuary')\n",
        "plt.ylabel('Dissolved inorganic nitrogen (µg/l)')\n",
        "plt.show()"
      ],
      "metadata": {
        "execution": {
          "iopub.status.busy": "2021-11-26T10:47:20.248387Z",
          "iopub.execute_input": "2021-11-26T10:47:20.249398Z",
          "iopub.status.idle": "2021-11-26T10:47:20.491084Z",
          "shell.execute_reply.started": "2021-11-26T10:47:20.249354Z",
          "shell.execute_reply": "2021-11-26T10:47:20.490241Z"
        },
        "trusted": true,
        "id": "AYyUGDTHJtnj"
      },
      "execution_count": null,
      "outputs": []
    },
    {
      "cell_type": "code",
      "source": [
        "plt.figure(figsize = (12,8))\n",
        "plt.title('DIP at respective regions')\n",
        "sns.stripplot(x = dataset['Region'],\n",
        "              y = dataset['Dissolved_inorganic_phosphorus'])\n",
        "plt.xlabel('Site on Swartkops River Estuary')\n",
        "plt.ylabel('Dissolved inorganic phosphorus (µg/l)')\n",
        "plt.show()"
      ],
      "metadata": {
        "execution": {
          "iopub.status.busy": "2021-11-26T10:48:08.552728Z",
          "iopub.execute_input": "2021-11-26T10:48:08.55318Z",
          "iopub.status.idle": "2021-11-26T10:48:08.803321Z",
          "shell.execute_reply.started": "2021-11-26T10:48:08.553113Z",
          "shell.execute_reply": "2021-11-26T10:48:08.802643Z"
        },
        "trusted": true,
        "id": "t3_b9xpSJtnj"
      },
      "execution_count": null,
      "outputs": []
    },
    {
      "cell_type": "code",
      "source": [
        "plt.figure(figsize = (8,8))\n",
        "plt.title('Relationship between physical properties and DIP')\n",
        "g = sns.scatterplot(x = dataset['Water_electrical_conductivity'],\n",
        "                y = dataset['Water_pH'],\n",
        "               hue = dataset['Dissolved_inorganic_phosphorus'])\n",
        "g.set(xlim=(0,2000),ylim=(0,10),xticks=[0,500, 1000, 1500], yticks=[0,2, 4, 6, 8, 10])\n",
        "plt.ylabel('Water pH')\n",
        "plt.xlabel('Electrical conductivity of water (S m-1)')\n",
        "plt.show()"
      ],
      "metadata": {
        "execution": {
          "iopub.status.busy": "2021-11-26T10:46:34.058813Z",
          "iopub.execute_input": "2021-11-26T10:46:34.059116Z",
          "iopub.status.idle": "2021-11-26T10:46:34.437993Z",
          "shell.execute_reply.started": "2021-11-26T10:46:34.059083Z",
          "shell.execute_reply": "2021-11-26T10:46:34.437039Z"
        },
        "trusted": true,
        "id": "gKoqv_M4Jtnj"
      },
      "execution_count": null,
      "outputs": []
    },
    {
      "cell_type": "code",
      "source": [
        "plt.figure(figsize = (10,10))\n",
        "plt.title('Relationship between physical properties and DIN')\n",
        "h = sns.scatterplot(x = dataset['Water_electrical_conductivity'],\n",
        "                y = dataset['Water_pH'],\n",
        "               hue = dataset['Dissolved_inorganic_nitrogen'])\n",
        "h.set(xlim=(0,2000),ylim=(0,10),xticks=[0,500, 1000, 1500], yticks=[0,2, 4, 6, 8, 10])\n",
        "plt.ylabel('Water pH')\n",
        "plt.xlabel('Electrical conductivity of water (S m-1)')\n",
        "plt.show()"
      ],
      "metadata": {
        "execution": {
          "iopub.status.busy": "2021-11-26T10:45:05.455076Z",
          "iopub.execute_input": "2021-11-26T10:45:05.455813Z",
          "iopub.status.idle": "2021-11-26T10:45:05.976822Z",
          "shell.execute_reply.started": "2021-11-26T10:45:05.455766Z",
          "shell.execute_reply": "2021-11-26T10:45:05.97591Z"
        },
        "trusted": true,
        "id": "7aED00ddJtnk"
      },
      "execution_count": null,
      "outputs": []
    },
    {
      "cell_type": "markdown",
      "source": [
        "**CREATE MATRIX OF FEATURES AND INDEPENDENT VARIABLE VECTOR**"
      ],
      "metadata": {
        "id": "FYD_qaI3Jtnk"
      }
    },
    {
      "cell_type": "code",
      "source": [
        "# Create a matrix of features (x; independant variables) and a dependant variable vector (y)\n",
        "X = dataset.iloc[:, :-2].values\n",
        "y = dataset.iloc[:, -2].values"
      ],
      "metadata": {
        "execution": {
          "iopub.status.busy": "2021-11-26T10:13:36.138202Z",
          "iopub.execute_input": "2021-11-26T10:13:36.138433Z",
          "iopub.status.idle": "2021-11-26T10:13:36.146433Z",
          "shell.execute_reply.started": "2021-11-26T10:13:36.138405Z",
          "shell.execute_reply": "2021-11-26T10:13:36.145211Z"
        },
        "trusted": true,
        "id": "zIUDwRtPJtnk"
      },
      "execution_count": null,
      "outputs": []
    },
    {
      "cell_type": "code",
      "source": [
        "print(X)"
      ],
      "metadata": {
        "execution": {
          "iopub.status.busy": "2021-11-26T10:13:36.150029Z",
          "iopub.execute_input": "2021-11-26T10:13:36.150691Z",
          "iopub.status.idle": "2021-11-26T10:13:36.156966Z",
          "shell.execute_reply.started": "2021-11-26T10:13:36.150638Z",
          "shell.execute_reply": "2021-11-26T10:13:36.155932Z"
        },
        "trusted": true,
        "id": "1HPL_BwBJtnk"
      },
      "execution_count": null,
      "outputs": []
    },
    {
      "cell_type": "code",
      "source": [
        "print(y)"
      ],
      "metadata": {
        "execution": {
          "iopub.status.busy": "2021-11-26T10:13:36.158087Z",
          "iopub.execute_input": "2021-11-26T10:13:36.158396Z",
          "iopub.status.idle": "2021-11-26T10:13:36.173165Z",
          "shell.execute_reply.started": "2021-11-26T10:13:36.158365Z",
          "shell.execute_reply": "2021-11-26T10:13:36.17202Z"
        },
        "trusted": true,
        "id": "Og_fFOZzJtnk"
      },
      "execution_count": null,
      "outputs": []
    },
    {
      "cell_type": "markdown",
      "source": [
        "**ENCODING THE CATEGORICAL DATA**"
      ],
      "metadata": {
        "id": "vpfabizNJtnk"
      }
    },
    {
      "cell_type": "markdown",
      "source": [
        "The first coloumn of the independent variables contains categorical data."
      ],
      "metadata": {
        "id": "Q-2i7H7SJtnk"
      }
    },
    {
      "cell_type": "code",
      "source": [
        "ct = ColumnTransformer(transformers = [('encoder', OneHotEncoder(drop = 'first'), [0])], remainder= 'passthrough')\n",
        "X = np.array(ct.fit_transform(X))"
      ],
      "metadata": {
        "execution": {
          "iopub.status.busy": "2021-11-26T10:13:36.17458Z",
          "iopub.execute_input": "2021-11-26T10:13:36.175184Z",
          "iopub.status.idle": "2021-11-26T10:13:36.187069Z",
          "shell.execute_reply.started": "2021-11-26T10:13:36.175131Z",
          "shell.execute_reply": "2021-11-26T10:13:36.186063Z"
        },
        "trusted": true,
        "id": "Qm8k50KKJtnl"
      },
      "execution_count": null,
      "outputs": []
    },
    {
      "cell_type": "code",
      "source": [
        "print(X)"
      ],
      "metadata": {
        "execution": {
          "iopub.status.busy": "2021-11-26T10:13:36.188807Z",
          "iopub.execute_input": "2021-11-26T10:13:36.189035Z",
          "iopub.status.idle": "2021-11-26T10:13:36.198124Z",
          "shell.execute_reply.started": "2021-11-26T10:13:36.189007Z",
          "shell.execute_reply": "2021-11-26T10:13:36.19714Z"
        },
        "trusted": true,
        "id": "zVWtCuxdJtnl"
      },
      "execution_count": null,
      "outputs": []
    },
    {
      "cell_type": "code",
      "source": [
        "type(X)"
      ],
      "metadata": {
        "execution": {
          "iopub.status.busy": "2021-11-26T10:13:36.199442Z",
          "iopub.execute_input": "2021-11-26T10:13:36.200038Z",
          "iopub.status.idle": "2021-11-26T10:13:36.211486Z",
          "shell.execute_reply.started": "2021-11-26T10:13:36.199996Z",
          "shell.execute_reply": "2021-11-26T10:13:36.210561Z"
        },
        "trusted": true,
        "id": "C_ffifJzJtnl"
      },
      "execution_count": null,
      "outputs": []
    },
    {
      "cell_type": "markdown",
      "source": [
        "**SPLITTING THE DATA**"
      ],
      "metadata": {
        "id": "JMCiWvkbJtnl"
      }
    },
    {
      "cell_type": "code",
      "source": [
        "X_train, X_test, y_train, y_test = train_test_split(X, y, test_size = 0.2, random_state = 0)"
      ],
      "metadata": {
        "execution": {
          "iopub.status.busy": "2021-11-26T10:13:36.213355Z",
          "iopub.execute_input": "2021-11-26T10:13:36.214001Z",
          "iopub.status.idle": "2021-11-26T10:13:36.225727Z",
          "shell.execute_reply.started": "2021-11-26T10:13:36.213953Z",
          "shell.execute_reply": "2021-11-26T10:13:36.225028Z"
        },
        "trusted": true,
        "id": "enf5B_jYJtnl"
      },
      "execution_count": null,
      "outputs": []
    },
    {
      "cell_type": "markdown",
      "source": [
        "**TRAINING THE RFR**"
      ],
      "metadata": {
        "id": "orVTU19eJtnl"
      }
    },
    {
      "cell_type": "code",
      "source": [
        "regressor = RandomForestRegressor(n_estimators = 10, random_state = 0)\n",
        "regressor.fit(X_train, y_train)"
      ],
      "metadata": {
        "execution": {
          "iopub.status.busy": "2021-11-26T10:13:36.227657Z",
          "iopub.execute_input": "2021-11-26T10:13:36.22831Z",
          "iopub.status.idle": "2021-11-26T10:13:36.274587Z",
          "shell.execute_reply.started": "2021-11-26T10:13:36.228257Z",
          "shell.execute_reply": "2021-11-26T10:13:36.273952Z"
        },
        "trusted": true,
        "id": "2aGfAIHfJtnl"
      },
      "execution_count": null,
      "outputs": []
    },
    {
      "cell_type": "markdown",
      "source": [
        "**PREDICTING THE RESULTS**"
      ],
      "metadata": {
        "id": "RsM5O2PUJtnl"
      }
    },
    {
      "cell_type": "code",
      "source": [
        "y_pred = regressor.predict(X_test)\n",
        "np.set_printoptions(precision=2)\n",
        "print(np.concatenate((y_pred.reshape(len(y_pred),1),\n",
        "                      y_test.reshape(len(y_test),1)),1))"
      ],
      "metadata": {
        "execution": {
          "iopub.status.busy": "2021-11-26T10:13:36.275908Z",
          "iopub.execute_input": "2021-11-26T10:13:36.278387Z",
          "iopub.status.idle": "2021-11-26T10:13:36.291637Z",
          "shell.execute_reply.started": "2021-11-26T10:13:36.278333Z",
          "shell.execute_reply": "2021-11-26T10:13:36.290722Z"
        },
        "trusted": true,
        "id": "OgmJDysIJtnl"
      },
      "execution_count": null,
      "outputs": []
    },
    {
      "cell_type": "markdown",
      "source": [
        "**EVALUATING THE ACCURACY**"
      ],
      "metadata": {
        "id": "NRnF1NqFJtnl"
      }
    },
    {
      "cell_type": "code",
      "source": [
        "r2_score(y_test, y_pred)"
      ],
      "metadata": {
        "execution": {
          "iopub.status.busy": "2021-11-26T10:13:36.292977Z",
          "iopub.execute_input": "2021-11-26T10:13:36.293349Z",
          "iopub.status.idle": "2021-11-26T10:13:36.299108Z",
          "shell.execute_reply.started": "2021-11-26T10:13:36.293319Z",
          "shell.execute_reply": "2021-11-26T10:13:36.298295Z"
        },
        "trusted": true,
        "id": "ZGMku7m-Jtnl"
      },
      "execution_count": null,
      "outputs": []
    },
    {
      "cell_type": "markdown",
      "source": [
        "The large outliers in the dataset have made for this really low prediction accuracy."
      ],
      "metadata": {
        "id": "CfhB23v4Jtnl"
      }
    }
  ]
}